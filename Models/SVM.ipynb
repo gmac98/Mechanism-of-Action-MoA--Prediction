{
 "cells": [
  {
   "cell_type": "code",
   "execution_count": 1,
   "metadata": {},
   "outputs": [],
   "source": [
    "import pandas as pd\n",
    "import numpy as np\n",
    "from sklearn.model_selection import KFold\n",
    "from sklearn.multioutput import MultiOutputClassifier, MultiOutputRegressor\n",
    "from sklearn.linear_model import LogisticRegression\n",
    "from joblib import dump, load\n",
    "import pickle\n",
    "from sklearn.preprocessing import LabelEncoder\n",
    "from sklearn.metrics import log_loss, brier_score_loss, precision_score, recall_score, f1_score\n",
    "from datetime import date\n",
    "from sklearn.pipeline import Pipeline\n",
    "from sklearn.svm import SVC, SVR\n",
    "from sklearn.preprocessing import StandardScaler\n",
    "from sklearn.decomposition import PCA\n",
    "\n",
    "import matplotlib.pyplot as plt\n",
    "\n",
    "from sklearn.calibration import CalibratedClassifierCV, calibration_curve\n",
    "from sklearn.model_selection import train_test_split"
   ]
  },
  {
   "cell_type": "code",
   "execution_count": 2,
   "metadata": {},
   "outputs": [],
   "source": [
    "data_folder = 'D:/CS 5100/MoA/'\n",
    "output_folder = 'D:/CS 5100/Output/'\n",
    "\n",
    "# fix the random seed \n",
    "xseed = 43\n",
    "\n",
    "# number of folds for cv\n",
    "nfolds = 5\n",
    "\n",
    "# number of components to retain from PCA decomposition\n",
    "nof_comp = 300\n",
    "\n",
    "model_name = 'svm'"
   ]
  },
  {
   "cell_type": "code",
   "execution_count": 3,
   "metadata": {},
   "outputs": [],
   "source": [
    "xtrain = pd.read_csv(data_folder + 'train_features.csv')\n",
    "xtest = pd.read_csv(data_folder + 'test_features.csv')\n",
    "ytrain = pd.read_csv(data_folder + 'train_targets_scored.csv')"
   ]
  },
  {
   "cell_type": "code",
   "execution_count": 4,
   "metadata": {},
   "outputs": [
    {
     "name": "stdout",
     "output_type": "stream",
     "text": [
      "{24, 48, 72} {24, 48, 72}\n",
      "{'D1', 'D2'} {'D1', 'D2'}\n"
     ]
    }
   ],
   "source": [
    "# due to small cardinality of all values, it's faster to handle categoricals that way,\n",
    "\n",
    "print(set(xtrain['cp_time']), set(xtest['cp_time']) )\n",
    "\n",
    "# cp_time\n",
    "xtrain['cp_time_24'] = (xtrain['cp_time'] == 24) + 0\n",
    "xtrain['cp_time_48'] = (xtrain['cp_time'] == 48) + 0\n",
    "xtest['cp_time_24'] = (xtest['cp_time'] == 24) + 0\n",
    "xtest['cp_time_48'] = (xtest['cp_time'] == 48) + 0\n",
    "xtrain.drop('cp_time', axis = 1, inplace = True)\n",
    "xtest.drop('cp_time', axis = 1, inplace = True)\n",
    "\n",
    "# cp_dose\n",
    "print(set(xtrain['cp_dose']), set(xtest['cp_dose']) )\n",
    "xtrain['cp_dose_D1'] = (xtrain['cp_dose'] == 'D1') + 0\n",
    "xtest['cp_dose_D1'] = (xtest['cp_dose'] == 'D1') + 0\n",
    "xtrain.drop('cp_dose', axis = 1, inplace = True)\n",
    "xtest.drop('cp_dose', axis = 1, inplace = True)\n",
    "\n",
    "# cp_type\n",
    "xtrain['cp_type_control'] = (xtrain['cp_type'] == 'ctl_vehicle') + 0\n",
    "xtest['cp_type_control'] = (xtest['cp_type'] == 'ctl_vehicle') + 0\n",
    "xtrain.drop('cp_type', axis = 1, inplace = True)\n",
    "xtest.drop('cp_type', axis = 1, inplace = True)"
   ]
  },
  {
   "cell_type": "code",
   "execution_count": 5,
   "metadata": {},
   "outputs": [],
   "source": [
    "# prepare split\n",
    "kf = KFold(n_splits = nfolds)\n",
    "\n",
    "# separation\n",
    "id_train = xtrain['sig_id']; id_test = xtest['sig_id']\n",
    "ytrain.drop('sig_id', axis = 1, inplace = True) \n",
    "xtrain.drop('sig_id', axis = 1, inplace = True)\n",
    "xtest.drop('sig_id', axis = 1, inplace = True)\n",
    "\n",
    "# storage matrices for OOF / test predictions\n",
    "prval = np.zeros(ytrain.shape)\n",
    "prfull = np.zeros((xtest.shape[0], ytrain.shape[1]))"
   ]
  },
  {
   "cell_type": "code",
   "execution_count": 6,
   "metadata": {},
   "outputs": [],
   "source": [
    "# base model definition through sklearn Pipeline\n",
    "pca = PCA(n_components = nof_comp)\n",
    "svm0 = SVR(C = 0.1)\n",
    "\n",
    "base_model = Pipeline(steps=[('pca', pca), ('svm', svm0)])\n",
    "\n",
    "mo_base = MultiOutputRegressor(base_model, n_jobs=-1)"
   ]
  },
  {
   "cell_type": "code",
   "execution_count": 7,
   "metadata": {},
   "outputs": [
    {
     "name": "stdout",
     "output_type": "stream",
     "text": [
      "fold 0: completed\n",
      "fold 1: completed\n",
      "fold 2: completed\n",
      "fold 3: completed\n",
      "fold 4: completed\n"
     ]
    }
   ],
   "source": [
    "for (ff, (id0, id1)) in enumerate(kf.split(xtrain)):\n",
    "     \n",
    "    x0, x1 = xtrain.loc[id0], xtrain.loc[id1]\n",
    "    y0, y1 = np.array(ytrain.loc[id0]), np.array(ytrain.loc[id1])\n",
    "    \n",
    "    # stupid fix for empty columns - LogisticRegression blows up otherwise \n",
    "    # (the problem occurs for two folds only, each time for a single column)\n",
    "    # yes, i know it's ugly\n",
    "    check_for_empty_cols = np.where(y0.sum(axis = 0) == 0)[0]\n",
    "    if len(check_for_empty_cols):\n",
    "        y0[0,check_for_empty_cols] = 1\n",
    "    \n",
    "    # fit model\n",
    "    mo_base.fit(x0,y0)\n",
    "    \n",
    "    prv = mo_base.predict(x1)\n",
    "    prf = mo_base.predict(xtest)\n",
    "    # generate the prediction\n",
    "    prval[id1,:] = prv\n",
    "    prfull += prf/nfolds\n",
    "    \n",
    "    \n",
    "    print('fold '+str(ff) + ': completed')"
   ]
  },
  {
   "cell_type": "code",
   "execution_count": 8,
   "metadata": {},
   "outputs": [
    {
     "name": "stdout",
     "output_type": "stream",
     "text": [
      "0\n",
      "1\n",
      "2\n",
      "3\n",
      "4\n"
     ]
    }
   ],
   "source": [
    "column_list = ytrain.columns\n",
    "\n",
    "prval_cal = np.zeros(ytrain.shape)\n",
    "prfull_cal = np.zeros((xtest.shape[0], ytrain.shape[1]))\n",
    "\n",
    "\n",
    "\n",
    "for (ff, (id0, id1)) in enumerate(kf.split(xtrain)):\n",
    "     \n",
    "    for ii in range(0, ytrain.shape[1]):\n",
    "        \n",
    "        xname = column_list[ii]\n",
    "        \n",
    "        x0, x1 = prval[id0,ii], prval[id1,ii]\n",
    "        y0, y1 = np.array(ytrain)[id0,ii], np.array(ytrain)[id1,ii]\n",
    "       \n",
    "        if sum(y0) == 0:\n",
    "            y0[0] = 1\n",
    "            \n",
    "        basemodel = LogisticRegression()        \n",
    "        basemodel.fit(x0.reshape(-1,1), y0)\n",
    "        prv = basemodel.predict_proba(x1.reshape(-1,1))[:,1]\n",
    "        prf = basemodel.predict_proba(np.array(prfull)[:,ii].reshape(-1,1))[:,1]\n",
    "        \n",
    "        prval_cal[id1, ii] = prv\n",
    "        prfull_cal[:, ii] += prf/nfolds\n",
    "\n",
    "    print(ff)"
   ]
  },
  {
   "cell_type": "code",
   "execution_count": 9,
   "metadata": {},
   "outputs": [
    {
     "name": "stdout",
     "output_type": "stream",
     "text": [
      "raw: 0.10190956138382551\n",
      "cal: 0.017780453500434706\n"
     ]
    }
   ],
   "source": [
    "# compare performance pre- and post- calibration\n",
    "metrics1 = []\n",
    "metrics2 = []\n",
    "\n",
    "\n",
    "for ii in range(0,ytrain.shape[1]):\n",
    "    loss1 = log_loss(np.array(ytrain)[:, ii], prval[:, ii])\n",
    "    metrics1.append(loss1)\n",
    "    loss2 = log_loss(np.array(ytrain)[:, ii], prval_cal[:, ii])\n",
    "    metrics2.append(loss2)\n",
    "    \n",
    "print('raw: ' + str(np.mean(metrics1)) )\n",
    "print('cal: ' + str(np.mean(metrics2)))"
   ]
  },
  {
   "cell_type": "code",
   "execution_count": 10,
   "metadata": {},
   "outputs": [],
   "source": [
    "prval_cal = pd.DataFrame(prval_cal)\n",
    "prfull_cal = pd.DataFrame(prfull_cal)\n",
    "prval_cal.columns = ytrain.columns\n",
    "prfull_cal.columns = ytrain.columns\n",
    "\n",
    "prval_cal['sig_id'] = id_train\n",
    "prfull_cal['sig_id'] = id_test"
   ]
  },
  {
   "cell_type": "code",
   "execution_count": 11,
   "metadata": {},
   "outputs": [
    {
     "name": "stdout",
     "output_type": "stream",
     "text": [
      "OOF Metric: 0.0178\n"
     ]
    }
   ],
   "source": [
    "metrics = []\n",
    "for _target in ytrain.columns:\n",
    "    metrics.append(log_loss(ytrain.loc[:, _target], prval_cal.loc[:, _target]))\n",
    "print(f'OOF Metric: {np.round(np.mean(metrics),4)}')"
   ]
  },
  {
   "cell_type": "code",
   "execution_count": 12,
   "metadata": {},
   "outputs": [
    {
     "name": "stdout",
     "output_type": "stream",
     "text": [
      "1212\n"
     ]
    }
   ],
   "source": [
    "xcols = list(ytrain.columns); xcols.insert(0, 'sig_id')\n",
    "prval_cal = prval_cal[xcols]; prfull_cal = prfull_cal[xcols]\n",
    "\n",
    "\n",
    "todate = date.today().strftime(\"%d%m\")\n",
    "print(todate)\n",
    "\n",
    "# files for combination\n",
    "# prval_cal.to_csv(output_folder + 'prval_'+model_name+'_'+todate+'.csv', index = False)\n",
    "# prfull_cal.to_csv(output_folder + 'prfull_'+model_name+'_'+todate+'.csv', index = False)\n",
    "# actual submission\n",
    "prfull_cal.to_csv(output_folder + 'submission.csv', index = False)"
   ]
  },
  {
   "cell_type": "code",
   "execution_count": null,
   "metadata": {},
   "outputs": [],
   "source": [
    "from sklearn.datasets import load_digits\n",
    "from sklearn.model_selection import learning_curve\n",
    "from sklearn.model_selection import ShuffleSplit\n",
    "\n",
    "\n",
    "def plot_learning_curve(estimator, title, X, y, axes=None, ylim=None, cv=None,\n",
    "                        n_jobs=None, train_sizes=np.linspace(.1, 1.0, 5)):\n",
    "    \"\"\"\n",
    "    Generate 3 plots: the test and training learning curve, the training\n",
    "    samples vs fit times curve, the fit times vs score curve.\n",
    "\n",
    "    Parameters\n",
    "    ----------\n",
    "    estimator : object type that implements the \"fit\" and \"predict\" methods\n",
    "        An object of that type which is cloned for each validation.\n",
    "\n",
    "    title : string\n",
    "        Title for the chart.\n",
    "\n",
    "    X : array-like, shape (n_samples, n_features)\n",
    "        Training vector, where n_samples is the number of samples and\n",
    "        n_features is the number of features.\n",
    "\n",
    "    y : array-like, shape (n_samples) or (n_samples, n_features), optional\n",
    "        Target relative to X for classification or regression;\n",
    "        None for unsupervised learning.\n",
    "\n",
    "    axes : array of 3 axes, optional (default=None)\n",
    "        Axes to use for plotting the curves.\n",
    "\n",
    "    ylim : tuple, shape (ymin, ymax), optional\n",
    "        Defines minimum and maximum yvalues plotted.\n",
    "\n",
    "    cv : int, cross-validation generator or an iterable, optional\n",
    "        Determines the cross-validation splitting strategy.\n",
    "        Possible inputs for cv are:\n",
    "\n",
    "          - None, to use the default 5-fold cross-validation,\n",
    "          - integer, to specify the number of folds.\n",
    "          - :term:`CV splitter`,\n",
    "          - An iterable yielding (train, test) splits as arrays of indices.\n",
    "\n",
    "        For integer/None inputs, if ``y`` is binary or multiclass,\n",
    "        :class:`StratifiedKFold` used. If the estimator is not a classifier\n",
    "        or if ``y`` is neither binary nor multiclass, :class:`KFold` is used.\n",
    "\n",
    "        Refer :ref:`User Guide <cross_validation>` for the various\n",
    "        cross-validators that can be used here.\n",
    "\n",
    "    n_jobs : int or None, optional (default=None)\n",
    "        Number of jobs to run in parallel.\n",
    "        ``None`` means 1 unless in a :obj:`joblib.parallel_backend` context.\n",
    "        ``-1`` means using all processors. See :term:`Glossary <n_jobs>`\n",
    "        for more details.\n",
    "\n",
    "    train_sizes : array-like, shape (n_ticks,), dtype float or int\n",
    "        Relative or absolute numbers of training examples that will be used to\n",
    "        generate the learning curve. If the dtype is float, it is regarded as a\n",
    "        fraction of the maximum size of the training set (that is determined\n",
    "        by the selected validation method), i.e. it has to be within (0, 1].\n",
    "        Otherwise it is interpreted as absolute sizes of the training sets.\n",
    "        Note that for classification the number of samples usually have to\n",
    "        be big enough to contain at least one sample from each class.\n",
    "        (default: np.linspace(0.1, 1.0, 5))\n",
    "    \"\"\"\n",
    "    if axes is None:\n",
    "        _, axes = plt.subplots(1, 3, figsize=(20, 5))\n",
    "\n",
    "    axes[0].set_title(title)\n",
    "    if ylim is not None:\n",
    "        axes[0].set_ylim(*ylim)\n",
    "    axes[0].set_xlabel(\"Training examples\")\n",
    "    axes[0].set_ylabel(\"Score\")\n",
    "\n",
    "    train_sizes, train_scores, test_scores, fit_times, _ = \\\n",
    "        learning_curve(estimator, X, y, cv=cv, n_jobs=n_jobs,\n",
    "                       train_sizes=train_sizes,\n",
    "                       return_times=True)\n",
    "    train_scores_mean = np.mean(train_scores, axis=1)\n",
    "    train_scores_std = np.std(train_scores, axis=1)\n",
    "    test_scores_mean = np.mean(test_scores, axis=1)\n",
    "    test_scores_std = np.std(test_scores, axis=1)\n",
    "    fit_times_mean = np.mean(fit_times, axis=1)\n",
    "    fit_times_std = np.std(fit_times, axis=1)\n",
    "    \n",
    "    print(train_sizes,train_scores,test_scores)\n",
    "\n",
    "    # Plot learning curve\n",
    "    axes[0].grid()\n",
    "    axes[0].fill_between(train_sizes, train_scores_mean - train_scores_std,\n",
    "                         train_scores_mean + train_scores_std, alpha=0.1,\n",
    "                         color=\"r\")\n",
    "    axes[0].fill_between(train_sizes, test_scores_mean - test_scores_std,\n",
    "                         test_scores_mean + test_scores_std, alpha=0.1,\n",
    "                         color=\"g\")\n",
    "    axes[0].plot(train_sizes, train_scores_mean, 'o-', color=\"r\",\n",
    "                 label=\"Training score\")\n",
    "    axes[0].plot(train_sizes, test_scores_mean, 'o-', color=\"g\",\n",
    "                 label=\"Cross-validation score\")\n",
    "    axes[0].legend(loc=\"best\")\n",
    "\n",
    "    # Plot n_samples vs fit_times\n",
    "    axes[1].grid()\n",
    "    axes[1].plot(train_sizes, fit_times_mean, 'o-')\n",
    "    axes[1].fill_between(train_sizes, fit_times_mean - fit_times_std,\n",
    "                         fit_times_mean + fit_times_std, alpha=0.1)\n",
    "    axes[1].set_xlabel(\"Training examples\")\n",
    "    axes[1].set_ylabel(\"fit_times\")\n",
    "    axes[1].set_title(\"Scalability of the model\")\n",
    "\n",
    "    # Plot fit_time vs score\n",
    "    axes[2].grid()\n",
    "    axes[2].plot(fit_times_mean, test_scores_mean, 'o-')\n",
    "    axes[2].fill_between(fit_times_mean, test_scores_mean - test_scores_std,\n",
    "                         test_scores_mean + test_scores_std, alpha=0.1)\n",
    "    axes[2].set_xlabel(\"fit_times\")\n",
    "    axes[2].set_ylabel(\"Score\")\n",
    "    axes[2].set_title(\"Performance of the model\")\n",
    "\n",
    "    return plt\n",
    "\n",
    "\n",
    "fig, axes = plt.subplots(3, 2, figsize=(10, 15))\n",
    "\n",
    "#X, y = load_digits(return_X_y=True)\n",
    "\n",
    "#title = \"Learning Curves (Naive Bayes)\"\n",
    "# Cross validation with 100 iterations to get smoother mean test and train\n",
    "# score curves, each time with 20% data randomly selected as a validation set.\n",
    "#cv = ShuffleSplit(n_splits=100, test_size=0.2, random_state=0)\n",
    "\n",
    "#estimator = GaussianNB()\n",
    "#plot_learning_curve(estimator, title, X, y, axes=axes[:, 0], ylim=(0.7, 1.01),cv=cv, n_jobs=4)\n",
    "\n",
    "title = r\"Learning Curves (SVM, RBF kernel, $\\gamma=0.001$)\"\n",
    "# SVC is more expensive so we do a lower number of CV iterations:\n",
    "cv = ShuffleSplit(n_splits=10, test_size=0.2, random_state=0)\n",
    "estimator = mo_base\n",
    "plot_learning_curve(estimator, title, xtrain, ytrain, axes=axes[:, 1], ylim=(0, 1.01), cv=cv, n_jobs=4)\n",
    "\n",
    "plt.show()"
   ]
  }
 ],
 "metadata": {
  "kernelspec": {
   "display_name": "Python 3",
   "language": "python",
   "name": "python3"
  },
  "language_info": {
   "codemirror_mode": {
    "name": "ipython",
    "version": 3
   },
   "file_extension": ".py",
   "mimetype": "text/x-python",
   "name": "python",
   "nbconvert_exporter": "python",
   "pygments_lexer": "ipython3",
   "version": "3.7.6"
  }
 },
 "nbformat": 4,
 "nbformat_minor": 4
}
