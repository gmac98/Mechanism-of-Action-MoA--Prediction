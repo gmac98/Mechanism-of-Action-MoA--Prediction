{
  "nbformat": 4,
  "nbformat_minor": 0,
  "metadata": {
    "colab": {
      "name": "XGBoost.ipynb",
      "provenance": []
    },
    "kernelspec": {
      "name": "python3",
      "display_name": "Python 3"
    },
    "accelerator": "GPU"
  },
  "cells": [
    {
      "cell_type": "code",
      "metadata": {
        "colab": {
          "base_uri": "https://localhost:8080/"
        },
        "id": "0XP7BK-MOnr9",
        "outputId": "04d9a275-7577-4fd2-dbbc-b4febc69aa5a"
      },
      "source": [
        "!pip install category_encoders\n",
        "import numpy as np # linear algebra\n",
        "import pandas as pd # data processing, CSV file I/O (e.g. pd.read_csv)\n",
        "\n",
        "from xgboost import XGBClassifier\n",
        "from sklearn.model_selection import KFold\n",
        "from category_encoders import CountEncoder\n",
        "from sklearn.pipeline import Pipeline\n",
        "from sklearn.metrics import log_loss\n",
        "\n",
        "import matplotlib.pyplot as plt\n",
        "\n",
        "from sklearn.multioutput import MultiOutputClassifier\n",
        "\n",
        "import os\n",
        "import warnings\n",
        "warnings.filterwarnings('ignore')"
      ],
      "execution_count": null,
      "outputs": [
        {
          "output_type": "stream",
          "text": [
            "Collecting category_encoders\n",
            "\u001b[?25l  Downloading https://files.pythonhosted.org/packages/44/57/fcef41c248701ee62e8325026b90c432adea35555cbc870aff9cfba23727/category_encoders-2.2.2-py2.py3-none-any.whl (80kB)\n",
            "\r\u001b[K     |████                            | 10kB 29.1MB/s eta 0:00:01\r\u001b[K     |████████▏                       | 20kB 29.2MB/s eta 0:00:01\r\u001b[K     |████████████▏                   | 30kB 20.5MB/s eta 0:00:01\r\u001b[K     |████████████████▎               | 40kB 17.3MB/s eta 0:00:01\r\u001b[K     |████████████████████▎           | 51kB 12.9MB/s eta 0:00:01\r\u001b[K     |████████████████████████▍       | 61kB 13.7MB/s eta 0:00:01\r\u001b[K     |████████████████████████████▍   | 71kB 13.5MB/s eta 0:00:01\r\u001b[K     |████████████████████████████████| 81kB 7.2MB/s \n",
            "\u001b[?25hRequirement already satisfied: pandas>=0.21.1 in /usr/local/lib/python3.6/dist-packages (from category_encoders) (1.1.5)\n",
            "Requirement already satisfied: statsmodels>=0.9.0 in /usr/local/lib/python3.6/dist-packages (from category_encoders) (0.10.2)\n",
            "Requirement already satisfied: numpy>=1.14.0 in /usr/local/lib/python3.6/dist-packages (from category_encoders) (1.18.5)\n",
            "Requirement already satisfied: scikit-learn>=0.20.0 in /usr/local/lib/python3.6/dist-packages (from category_encoders) (0.22.2.post1)\n",
            "Requirement already satisfied: patsy>=0.5.1 in /usr/local/lib/python3.6/dist-packages (from category_encoders) (0.5.1)\n",
            "Requirement already satisfied: scipy>=1.0.0 in /usr/local/lib/python3.6/dist-packages (from category_encoders) (1.4.1)\n",
            "Requirement already satisfied: python-dateutil>=2.7.3 in /usr/local/lib/python3.6/dist-packages (from pandas>=0.21.1->category_encoders) (2.8.1)\n",
            "Requirement already satisfied: pytz>=2017.2 in /usr/local/lib/python3.6/dist-packages (from pandas>=0.21.1->category_encoders) (2018.9)\n",
            "Requirement already satisfied: joblib>=0.11 in /usr/local/lib/python3.6/dist-packages (from scikit-learn>=0.20.0->category_encoders) (0.17.0)\n",
            "Requirement already satisfied: six in /usr/local/lib/python3.6/dist-packages (from patsy>=0.5.1->category_encoders) (1.15.0)\n",
            "Installing collected packages: category-encoders\n",
            "Successfully installed category-encoders-2.2.2\n"
          ],
          "name": "stdout"
        },
        {
          "output_type": "stream",
          "text": [
            "/usr/local/lib/python3.6/dist-packages/statsmodels/tools/_testing.py:19: FutureWarning: pandas.util.testing is deprecated. Use the functions in the public API at pandas.testing instead.\n",
            "  import pandas.util.testing as tm\n"
          ],
          "name": "stderr"
        }
      ]
    },
    {
      "cell_type": "code",
      "metadata": {
        "colab": {
          "base_uri": "https://localhost:8080/"
        },
        "id": "FwQGggNOrOD1",
        "outputId": "630bfbbb-18fb-4250-8f6e-2967b475f180"
      },
      "source": [
        "from google.colab import drive\n",
        "drive.mount('/content/drive')\n",
        "\n",
        "path = '/content/drive/MyDrive/MoA'"
      ],
      "execution_count": null,
      "outputs": [
        {
          "output_type": "stream",
          "text": [
            "Mounted at /content/drive\n"
          ],
          "name": "stdout"
        }
      ]
    },
    {
      "cell_type": "code",
      "metadata": {
        "id": "Y-Zso56Ir0eV"
      },
      "source": [
        "SEED = 42\n",
        "NFOLDS = 5\n",
        "#DATA_DIR = '/kaggle/input/lish-moa/'\n",
        "np.random.seed(SEED)"
      ],
      "execution_count": null,
      "outputs": []
    },
    {
      "cell_type": "code",
      "metadata": {
        "id": "Nn2egeI9sMy5"
      },
      "source": [
        "train = pd.read_csv(path + '/train_features.csv')\n",
        "targets = pd.read_csv(path + '/train_targets_scored.csv')\n",
        "\n",
        "test = pd.read_csv(path + '/test_features.csv')\n",
        "sub = pd.read_csv(path + '/sample_submission.csv')\n",
        "\n",
        "# drop id col\n",
        "X = train.iloc[:,1:].to_numpy()\n",
        "X_test = test.iloc[:,1:].to_numpy()\n",
        "y = targets.iloc[:,1:].to_numpy() "
      ],
      "execution_count": null,
      "outputs": []
    },
    {
      "cell_type": "code",
      "metadata": {
        "id": "U6t_a3XFsap1"
      },
      "source": [
        "classifier = MultiOutputClassifier(XGBClassifier(tree_method='gpu_hist'))\n",
        "\n",
        "clf = Pipeline([('encode', CountEncoder(cols=[0, 2])),\n",
        "                ('classify', classifier)\n",
        "               ])"
      ],
      "execution_count": null,
      "outputs": []
    },
    {
      "cell_type": "code",
      "metadata": {
        "id": "4HHyxhYXseiR"
      },
      "source": [
        "params = {'classify__estimator__colsample_bytree': 0.6522,\n",
        "          'classify__estimator__gamma': 3.6975,\n",
        "          'classify__estimator__learning_rate': 0.0503,\n",
        "          'classify__estimator__max_delta_step': 2.0706,\n",
        "          'classify__estimator__max_depth': 10,\n",
        "          'classify__estimator__min_child_weight': 31.5800,\n",
        "          'classify__estimator__n_estimators': 166,\n",
        "          'classify__estimator__subsample': 0.8639\n",
        "         }\n",
        "\n",
        "_ = clf.set_params(**params)"
      ],
      "execution_count": null,
      "outputs": []
    },
    {
      "cell_type": "code",
      "metadata": {
        "colab": {
          "base_uri": "https://localhost:8080/"
        },
        "id": "jZty1Fh3siuz",
        "outputId": "5d1d5c9b-0b4f-401e-ddd6-1aa25ffd2efc"
      },
      "source": [
        "oof_preds = np.zeros(y.shape)\n",
        "test_preds = np.zeros((test.shape[0], y.shape[1]))\n",
        "oof_losses = []\n",
        "kf = KFold(n_splits=NFOLDS)\n",
        "for fn, (trn_idx, val_idx) in enumerate(kf.split(X, y)):\n",
        "    print('Starting fold: ', fn)\n",
        "    X_train, X_val = X[trn_idx], X[val_idx]\n",
        "    y_train, y_val = y[trn_idx], y[val_idx]\n",
        "    \n",
        "    # drop where cp_type==ctl_vehicle (baseline)\n",
        "    ctl_mask = X_train[:,0]=='ctl_vehicle'\n",
        "    X_train = X_train[~ctl_mask,:]\n",
        "    y_train = y_train[~ctl_mask]\n",
        "    \n",
        "    clf.fit(X_train, y_train)\n",
        "    val_preds = clf.predict_proba(X_val) # list of preds per class\n",
        "    val_preds = np.array(val_preds)[:,:,1].T # take the positive class\n",
        "    oof_preds[val_idx] = val_preds\n",
        "    \n",
        "    loss = log_loss(np.ravel(y_val), np.ravel(val_preds))\n",
        "    oof_losses.append(loss)\n",
        "    preds = clf.predict_proba(X_test)\n",
        "    preds = np.array(preds)[:,:,1].T # take the positive class\n",
        "    test_preds += preds / NFOLDS\n",
        "    \n",
        "print(oof_losses)\n",
        "print('Mean OOF loss across folds', np.mean(oof_losses))\n",
        "print('STD OOF loss across folds', np.std(oof_losses))"
      ],
      "execution_count": null,
      "outputs": [
        {
          "output_type": "stream",
          "text": [
            "Starting fold:  0\n"
          ],
          "name": "stdout"
        }
      ]
    },
    {
      "cell_type": "code",
      "metadata": {
        "id": "qf2wRNG4so7E"
      },
      "source": [
        ""
      ],
      "execution_count": null,
      "outputs": []
    }
  ]
}